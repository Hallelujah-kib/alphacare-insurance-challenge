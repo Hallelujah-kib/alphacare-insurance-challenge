{
 "cells": [
  {
   "cell_type": "markdown",
   "id": "4012b508",
   "metadata": {},
   "source": [
    "# Data Version Control Setup (Task 2)\n",
    "## Implementing Reproducible Data Pipelines"
   ]
  },
  {
   "cell_type": "markdown",
   "id": "cc24aa9b",
   "metadata": {},
   "source": [
    "## 1. Configure Remote Storage\n",
    "Setup local remote storage"
   ]
  },
  {
   "cell_type": "code",
   "execution_count": 2,
   "id": "f5cabaf8",
   "metadata": {},
   "outputs": [
    {
     "data": {
      "text/plain": [
       "0"
      ]
     },
     "execution_count": 2,
     "metadata": {},
     "output_type": "execute_result"
    }
   ],
   "source": [
    "import os\n",
    "from pathlib import Path\n",
    "\n",
    "storage_path = Path('../dvc_storage')\n",
    "storage_path.mkdir(exist_ok=True)\n",
    "os.system(f'dvc remote add -d localstorage {storage_path.resolve()}')"
   ]
  },
  {
   "cell_type": "markdown",
   "id": "dee4c858",
   "metadata": {},
   "source": [
    "## 2. Version Data Assets\n",
    "Track and version key datasets"
   ]
  },
  {
   "cell_type": "code",
   "execution_count": 3,
   "id": "d191d5c5",
   "metadata": {},
   "outputs": [
    {
     "data": {
      "text/plain": [
       "0"
      ]
     },
     "execution_count": 3,
     "metadata": {},
     "output_type": "execute_result"
    }
   ],
   "source": [
    "# Track raw data\n",
    "os.system('dvc add data/raw/MachineLearningRating_v3.txt')\n",
    "\n",
    "# Track processed data\n",
    "os.system('dvc add data/processed/cleaned_data.parquet')\n",
    "\n",
    "# Commit to DVC\n",
    "os.system('dvc commit')"
   ]
  },
  {
   "cell_type": "markdown",
   "id": "70063fb0",
   "metadata": {},
   "source": [
    "## 3. Workflow Integration\n",
    "Create reproducible pipeline"
   ]
  },
  {
   "cell_type": "code",
   "execution_count": 4,
   "id": "a7b31d8f",
   "metadata": {},
   "outputs": [
    {
     "data": {
      "text/plain": [
       "0"
      ]
     },
     "execution_count": 4,
     "metadata": {},
     "output_type": "execute_result"
    }
   ],
   "source": [
    "# Create DVC pipeline\n",
    "os.system('dvc run -n prepare '\n",
    "          '-d src/data/loader.py -d data/raw/MachineLearningRating_v3.txt'\n",
    "          '-o data/processed/cleaned_data.parquet '\n",
    "          'python src/data/loader.py')\n",
    "\n",
    "# Push to remote\n",
    "os.system('dvc push')"
   ]
  }
 ],
 "metadata": {
  "kernelspec": {
   "display_name": "venv",
   "language": "python",
   "name": "python3"
  },
  "language_info": {
   "codemirror_mode": {
    "name": "ipython",
    "version": 3
   },
   "file_extension": ".py",
   "mimetype": "text/x-python",
   "name": "python",
   "nbconvert_exporter": "python",
   "pygments_lexer": "ipython3",
   "version": "3.9.13"
  }
 },
 "nbformat": 4,
 "nbformat_minor": 5
}
